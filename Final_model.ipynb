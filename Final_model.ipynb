{
 "cells": [
  {
   "cell_type": "code",
   "execution_count": 6,
   "metadata": {},
   "outputs": [],
   "source": [
    "import pandas as pd\n",
    "import numpy as np\n",
    "import matplotlib.pyplot as plt\n",
    "import seaborn as sns\n",
    "%matplotlib inline\n",
    "\n",
    "import warnings\n",
    "\n",
    "\n",
    "warnings.filterwarnings('ignore')\n",
    "\n",
    "from scipy import stats\n",
    "from xgboost.sklearn import XGBRegressor\n",
    "from itertools import product\n",
    "from fbprophet import Prophet\n",
    "import sklearn"
   ]
  },
  {
   "cell_type": "code",
   "execution_count": 5,
   "metadata": {},
   "outputs": [],
   "source": []
  },
  {
   "cell_type": "code",
   "execution_count": 7,
   "metadata": {},
   "outputs": [],
   "source": [
    "train = pd.read_csv('yds_train2018.csv')\n",
    "train.drop('S_No',axis=1,inplace=True)"
   ]
  },
  {
   "cell_type": "code",
   "execution_count": 11,
   "metadata": {},
   "outputs": [
    {
     "data": {
      "text/html": [
       "<div>\n",
       "<style scoped>\n",
       "    .dataframe tbody tr th:only-of-type {\n",
       "        vertical-align: middle;\n",
       "    }\n",
       "\n",
       "    .dataframe tbody tr th {\n",
       "        vertical-align: top;\n",
       "    }\n",
       "\n",
       "    .dataframe thead th {\n",
       "        text-align: right;\n",
       "    }\n",
       "</style>\n",
       "<table border=\"1\" class=\"dataframe\">\n",
       "  <thead>\n",
       "    <tr style=\"text-align: right;\">\n",
       "      <th></th>\n",
       "      <th>Year</th>\n",
       "      <th>Month</th>\n",
       "      <th>Week</th>\n",
       "      <th>Merchant_ID</th>\n",
       "      <th>Product_ID</th>\n",
       "      <th>Country</th>\n",
       "      <th>Sales</th>\n",
       "    </tr>\n",
       "  </thead>\n",
       "  <tbody>\n",
       "    <tr>\n",
       "      <th>0</th>\n",
       "      <td>2013</td>\n",
       "      <td>1</td>\n",
       "      <td>1</td>\n",
       "      <td>ar00001</td>\n",
       "      <td>1</td>\n",
       "      <td>Argentina</td>\n",
       "      <td>157500.0</td>\n",
       "    </tr>\n",
       "    <tr>\n",
       "      <th>1</th>\n",
       "      <td>2013</td>\n",
       "      <td>1</td>\n",
       "      <td>1</td>\n",
       "      <td>ar00003</td>\n",
       "      <td>1</td>\n",
       "      <td>Argentina</td>\n",
       "      <td>39375.0</td>\n",
       "    </tr>\n",
       "    <tr>\n",
       "      <th>2</th>\n",
       "      <td>2013</td>\n",
       "      <td>1</td>\n",
       "      <td>1</td>\n",
       "      <td>ar00004</td>\n",
       "      <td>1</td>\n",
       "      <td>Argentina</td>\n",
       "      <td>15750.0</td>\n",
       "    </tr>\n",
       "    <tr>\n",
       "      <th>3</th>\n",
       "      <td>2013</td>\n",
       "      <td>1</td>\n",
       "      <td>1</td>\n",
       "      <td>ar00007</td>\n",
       "      <td>1</td>\n",
       "      <td>Argentina</td>\n",
       "      <td>47250.0</td>\n",
       "    </tr>\n",
       "    <tr>\n",
       "      <th>4</th>\n",
       "      <td>2013</td>\n",
       "      <td>1</td>\n",
       "      <td>1</td>\n",
       "      <td>ar00008</td>\n",
       "      <td>1</td>\n",
       "      <td>Argentina</td>\n",
       "      <td>283500.0</td>\n",
       "    </tr>\n",
       "  </tbody>\n",
       "</table>\n",
       "</div>"
      ],
      "text/plain": [
       "   Year  Month  Week Merchant_ID  Product_ID    Country     Sales\n",
       "0  2013      1     1     ar00001           1  Argentina  157500.0\n",
       "1  2013      1     1     ar00003           1  Argentina   39375.0\n",
       "2  2013      1     1     ar00004           1  Argentina   15750.0\n",
       "3  2013      1     1     ar00007           1  Argentina   47250.0\n",
       "4  2013      1     1     ar00008           1  Argentina  283500.0"
      ]
     },
     "execution_count": 11,
     "metadata": {},
     "output_type": "execute_result"
    }
   ],
   "source": [
    "train.head()"
   ]
  },
  {
   "cell_type": "code",
   "execution_count": null,
   "metadata": {},
   "outputs": [],
   "source": []
  },
  {
   "cell_type": "markdown",
   "metadata": {},
   "source": [
    "### Preprocessing Sales Dataframe"
   ]
  },
  {
   "cell_type": "code",
   "execution_count": 12,
   "metadata": {},
   "outputs": [],
   "source": [
    "def grouper(df):\n",
    "    return [df['Sales'].sum(),df['Merchant_ID'].nunique()]"
   ]
  },
  {
   "cell_type": "code",
   "execution_count": 13,
   "metadata": {},
   "outputs": [],
   "source": [
    "df_1 = pd.DataFrame(train.groupby(['Country','Product_ID','Year','Month'],as_index=False)\\\n",
    "                    ['Sales','Merchant_ID'].apply(grouper))"
   ]
  },
  {
   "cell_type": "code",
   "execution_count": 14,
   "metadata": {},
   "outputs": [],
   "source": [
    "df_1.columns = ['Sales_merchant']"
   ]
  },
  {
   "cell_type": "code",
   "execution_count": 15,
   "metadata": {},
   "outputs": [],
   "source": [
    "df_1['Sales'] = df_1['Sales_merchant'].apply(lambda x:x[0])\n",
    "df_1['Merchant_n'] = df_1['Sales_merchant'].apply(lambda x:x[1])"
   ]
  },
  {
   "cell_type": "code",
   "execution_count": 16,
   "metadata": {},
   "outputs": [],
   "source": [
    "df_1.drop('Sales_merchant',axis=1,inplace=True)"
   ]
  },
  {
   "cell_type": "code",
   "execution_count": 17,
   "metadata": {},
   "outputs": [],
   "source": [
    "df_1.reset_index(inplace=True)"
   ]
  },
  {
   "cell_type": "code",
   "execution_count": 19,
   "metadata": {},
   "outputs": [
    {
     "data": {
      "text/html": [
       "<div>\n",
       "<style scoped>\n",
       "    .dataframe tbody tr th:only-of-type {\n",
       "        vertical-align: middle;\n",
       "    }\n",
       "\n",
       "    .dataframe tbody tr th {\n",
       "        vertical-align: top;\n",
       "    }\n",
       "\n",
       "    .dataframe thead th {\n",
       "        text-align: right;\n",
       "    }\n",
       "</style>\n",
       "<table border=\"1\" class=\"dataframe\">\n",
       "  <thead>\n",
       "    <tr style=\"text-align: right;\">\n",
       "      <th></th>\n",
       "      <th>Country</th>\n",
       "      <th>Product_ID</th>\n",
       "      <th>Year</th>\n",
       "      <th>Month</th>\n",
       "      <th>Sales</th>\n",
       "      <th>Merchant_n</th>\n",
       "    </tr>\n",
       "  </thead>\n",
       "  <tbody>\n",
       "    <tr>\n",
       "      <th>0</th>\n",
       "      <td>Argentina</td>\n",
       "      <td>1</td>\n",
       "      <td>2013</td>\n",
       "      <td>1</td>\n",
       "      <td>34346025.0</td>\n",
       "      <td>63</td>\n",
       "    </tr>\n",
       "    <tr>\n",
       "      <th>1</th>\n",
       "      <td>Argentina</td>\n",
       "      <td>1</td>\n",
       "      <td>2013</td>\n",
       "      <td>2</td>\n",
       "      <td>32005575.0</td>\n",
       "      <td>66</td>\n",
       "    </tr>\n",
       "    <tr>\n",
       "      <th>2</th>\n",
       "      <td>Argentina</td>\n",
       "      <td>1</td>\n",
       "      <td>2013</td>\n",
       "      <td>3</td>\n",
       "      <td>32530050.0</td>\n",
       "      <td>52</td>\n",
       "    </tr>\n",
       "    <tr>\n",
       "      <th>3</th>\n",
       "      <td>Argentina</td>\n",
       "      <td>1</td>\n",
       "      <td>2013</td>\n",
       "      <td>4</td>\n",
       "      <td>35588700.0</td>\n",
       "      <td>51</td>\n",
       "    </tr>\n",
       "    <tr>\n",
       "      <th>4</th>\n",
       "      <td>Argentina</td>\n",
       "      <td>1</td>\n",
       "      <td>2013</td>\n",
       "      <td>5</td>\n",
       "      <td>38789100.0</td>\n",
       "      <td>51</td>\n",
       "    </tr>\n",
       "  </tbody>\n",
       "</table>\n",
       "</div>"
      ],
      "text/plain": [
       "     Country  Product_ID  Year  Month       Sales  Merchant_n\n",
       "0  Argentina           1  2013      1  34346025.0          63\n",
       "1  Argentina           1  2013      2  32005575.0          66\n",
       "2  Argentina           1  2013      3  32530050.0          52\n",
       "3  Argentina           1  2013      4  35588700.0          51\n",
       "4  Argentina           1  2013      5  38789100.0          51"
      ]
     },
     "execution_count": 19,
     "metadata": {},
     "output_type": "execute_result"
    }
   ],
   "source": [
    "df_1.head()"
   ]
  },
  {
   "cell_type": "code",
   "execution_count": null,
   "metadata": {},
   "outputs": [],
   "source": []
  },
  {
   "cell_type": "markdown",
   "metadata": {},
   "source": [
    "### Preprocessing holiday dataframe to merge in sales dataframe"
   ]
  },
  {
   "cell_type": "code",
   "execution_count": 20,
   "metadata": {},
   "outputs": [],
   "source": [
    "holiday = pd.read_csv('holidays.csv')\n",
    "\n",
    "holiday.Date = pd.to_datetime(holiday.Date)\n",
    "\n",
    "holiday['Month'] = holiday['Date'].apply(lambda x:x.month)\n",
    "\n",
    "holiday['Year'] = holiday['Date'].apply(lambda x:x.year)\n",
    "\n",
    "holiday_n = pd.DataFrame(holiday.groupby(['Country','Year','Month'])['Holiday'].count())\n",
    "\n",
    "holiday_n.reset_index(inplace=True)"
   ]
  },
  {
   "cell_type": "code",
   "execution_count": 21,
   "metadata": {},
   "outputs": [],
   "source": [
    "df_1['holiday']=0\n",
    "\n",
    "for i in range(holiday_n.shape[0]):\n",
    "    c = holiday_n.loc[i][0]\n",
    "    y = holiday_n.loc[i][1]\n",
    "    w = holiday_n.loc[i][2]\n",
    "    val = holiday_n.loc[i][3]\n",
    "    df_1.loc[((df_1.Country==c)&(df_1.Year==y)&(df_1.Month==w)),'holiday']=val"
   ]
  },
  {
   "cell_type": "code",
   "execution_count": 22,
   "metadata": {},
   "outputs": [],
   "source": [
    "df_1['exp']=0\n",
    "\n",
    "exp = pd.read_csv('promotional_expense.csv')\n",
    "\n",
    "for i in range(exp.shape[0]):\n",
    "    y = exp.loc[i][0]\n",
    "    m = exp.loc[i][1]\n",
    "    c = exp.loc[i][2]\n",
    "    p = exp.iloc[i][3]\n",
    "    val = exp.loc[i][4]\n",
    "    df_1.loc[((df_1.Country==c)&(df_1.Year==y)&(df_1.Month==m)&(df_1.Product_ID==p)),'exp']=val"
   ]
  },
  {
   "cell_type": "code",
   "execution_count": 23,
   "metadata": {},
   "outputs": [
    {
     "data": {
      "text/html": [
       "<div>\n",
       "<style scoped>\n",
       "    .dataframe tbody tr th:only-of-type {\n",
       "        vertical-align: middle;\n",
       "    }\n",
       "\n",
       "    .dataframe tbody tr th {\n",
       "        vertical-align: top;\n",
       "    }\n",
       "\n",
       "    .dataframe thead th {\n",
       "        text-align: right;\n",
       "    }\n",
       "</style>\n",
       "<table border=\"1\" class=\"dataframe\">\n",
       "  <thead>\n",
       "    <tr style=\"text-align: right;\">\n",
       "      <th></th>\n",
       "      <th>Country</th>\n",
       "      <th>Product_ID</th>\n",
       "      <th>Year</th>\n",
       "      <th>Month</th>\n",
       "      <th>Sales</th>\n",
       "      <th>Merchant_n</th>\n",
       "      <th>holiday</th>\n",
       "      <th>exp</th>\n",
       "    </tr>\n",
       "  </thead>\n",
       "  <tbody>\n",
       "    <tr>\n",
       "      <th>0</th>\n",
       "      <td>Argentina</td>\n",
       "      <td>1</td>\n",
       "      <td>2013</td>\n",
       "      <td>1</td>\n",
       "      <td>34346025.0</td>\n",
       "      <td>63</td>\n",
       "      <td>1</td>\n",
       "      <td>14749.307</td>\n",
       "    </tr>\n",
       "    <tr>\n",
       "      <th>1</th>\n",
       "      <td>Argentina</td>\n",
       "      <td>1</td>\n",
       "      <td>2013</td>\n",
       "      <td>2</td>\n",
       "      <td>32005575.0</td>\n",
       "      <td>66</td>\n",
       "      <td>2</td>\n",
       "      <td>12187.566</td>\n",
       "    </tr>\n",
       "    <tr>\n",
       "      <th>2</th>\n",
       "      <td>Argentina</td>\n",
       "      <td>1</td>\n",
       "      <td>2013</td>\n",
       "      <td>3</td>\n",
       "      <td>32530050.0</td>\n",
       "      <td>52</td>\n",
       "      <td>4</td>\n",
       "      <td>13076.579</td>\n",
       "    </tr>\n",
       "    <tr>\n",
       "      <th>3</th>\n",
       "      <td>Argentina</td>\n",
       "      <td>1</td>\n",
       "      <td>2013</td>\n",
       "      <td>4</td>\n",
       "      <td>35588700.0</td>\n",
       "      <td>51</td>\n",
       "      <td>1</td>\n",
       "      <td>14377.199</td>\n",
       "    </tr>\n",
       "    <tr>\n",
       "      <th>4</th>\n",
       "      <td>Argentina</td>\n",
       "      <td>1</td>\n",
       "      <td>2013</td>\n",
       "      <td>5</td>\n",
       "      <td>38789100.0</td>\n",
       "      <td>51</td>\n",
       "      <td>2</td>\n",
       "      <td>15652.861</td>\n",
       "    </tr>\n",
       "  </tbody>\n",
       "</table>\n",
       "</div>"
      ],
      "text/plain": [
       "     Country  Product_ID  Year  Month       Sales  Merchant_n  holiday  \\\n",
       "0  Argentina           1  2013      1  34346025.0          63        1   \n",
       "1  Argentina           1  2013      2  32005575.0          66        2   \n",
       "2  Argentina           1  2013      3  32530050.0          52        4   \n",
       "3  Argentina           1  2013      4  35588700.0          51        1   \n",
       "4  Argentina           1  2013      5  38789100.0          51        2   \n",
       "\n",
       "         exp  \n",
       "0  14749.307  \n",
       "1  12187.566  \n",
       "2  13076.579  \n",
       "3  14377.199  \n",
       "4  15652.861  "
      ]
     },
     "execution_count": 23,
     "metadata": {},
     "output_type": "execute_result"
    }
   ],
   "source": [
    "df_1.head()"
   ]
  },
  {
   "cell_type": "code",
   "execution_count": null,
   "metadata": {},
   "outputs": [],
   "source": []
  },
  {
   "cell_type": "markdown",
   "metadata": {},
   "source": [
    "### Preprocessing test dataframe accordingly"
   ]
  },
  {
   "cell_type": "code",
   "execution_count": 24,
   "metadata": {},
   "outputs": [],
   "source": [
    "test = pd.read_csv('yds_test2018.csv')\n",
    "\n",
    "for i in range(holiday_n.shape[0]):\n",
    "    c = holiday_n.loc[i][0]\n",
    "    y = holiday_n.loc[i][1]\n",
    "    m = holiday_n.loc[i][2]\n",
    "    val = holiday_n.loc[i][3]\n",
    "    test.loc[((test.Country==c)&(test.Year==y)&(test.Month==m)),'holiday']=val\n",
    "\n",
    "for i in range(exp.shape[0]):\n",
    "    y = exp.loc[i][0]\n",
    "    m = exp.loc[i][1]\n",
    "    c = exp.loc[i][2]\n",
    "    p = exp.iloc[i][3]\n",
    "    val = exp.loc[i][4]\n",
    "    test.loc[((test.Country==c)&(test.Year==y)&(test.Month==m)&(test.Product_ID==p)),'exp']=val\n",
    "\n",
    "test.fillna(0,inplace=True)"
   ]
  },
  {
   "cell_type": "code",
   "execution_count": 25,
   "metadata": {},
   "outputs": [],
   "source": [
    "test['pred_xgb']=0\n",
    "test['pred_fbp']=0"
   ]
  },
  {
   "cell_type": "code",
   "execution_count": null,
   "metadata": {},
   "outputs": [],
   "source": []
  },
  {
   "cell_type": "markdown",
   "metadata": {},
   "source": [
    "### Modeling"
   ]
  },
  {
   "cell_type": "markdown",
   "metadata": {},
   "source": [
    "### Training a XGBRegressor tuned using SMAPE as metric"
   ]
  },
  {
   "cell_type": "code",
   "execution_count": 26,
   "metadata": {},
   "outputs": [],
   "source": [
    "train = df_1.copy()"
   ]
  },
  {
   "cell_type": "code",
   "execution_count": 27,
   "metadata": {},
   "outputs": [],
   "source": [
    "A = df_1.Country.unique()\n",
    "B = df_1.Product_ID.unique()"
   ]
  },
  {
   "cell_type": "code",
   "execution_count": 28,
   "metadata": {},
   "outputs": [],
   "source": [
    "features = ['Year','Month','exp','holiday']"
   ]
  },
  {
   "cell_type": "code",
   "execution_count": 29,
   "metadata": {},
   "outputs": [],
   "source": [
    "comb = list(product(A,B))"
   ]
  },
  {
   "cell_type": "code",
   "execution_count": 30,
   "metadata": {},
   "outputs": [],
   "source": [
    "def SMAPE(actual,pred):\n",
    "    actual = np.array(actual).astype('float')\n",
    "    pred = np.array(pred).astype('float')\n",
    "    A = np.sum((np.abs(pred-actual))/((np.absolute(pred)+np.absolute(actual))/2))\n",
    "    return A"
   ]
  },
  {
   "cell_type": "code",
   "execution_count": 31,
   "metadata": {},
   "outputs": [],
   "source": [
    "for i in range(len(comb)):\n",
    "    check = train[(train.Country==comb[i][0])&(train.Product_ID==comb[i][1])]\n",
    "    if check.shape[0]!=0:\n",
    "        weight = np.ones(shape=check.shape[0])\n",
    "        weight[-9:]=1.25\n",
    "        clf = XGBRegressor(n_estimators=40,max_depth=3,learning_rate=0.13)\n",
    "        clf.fit(check[features].values,check['Sales'].values,sample_weight=weight)\n",
    "        pred_df = test[(test.Country==comb[i][0])&(test.Product_ID==comb[i][1])]\n",
    "        val_D = clf.predict(pred_df[features].values)\n",
    "        test.loc[(test.Country==comb[i][0])&(test.Product_ID==comb[i][1]),\\\n",
    "               'pred_xgb'] = val_D\n",
    "        val_C =  clf.predict(check[features].values)\n",
    "        train.loc[check.index,'pred_xgb'] = val_C\n",
    "    else:\n",
    "        None"
   ]
  },
  {
   "cell_type": "code",
   "execution_count": 32,
   "metadata": {},
   "outputs": [],
   "source": [
    "train['ds'] = train.apply(lambda row:(str(row['Year'])+'-'+str(row['Month'])),axis=1)\n",
    "train['ds'] = pd.to_datetime(train['ds'])\n",
    "train['y'] = train['Sales']"
   ]
  },
  {
   "cell_type": "code",
   "execution_count": 33,
   "metadata": {},
   "outputs": [],
   "source": [
    "test['ds'] = test.apply(lambda row:(str(row['Year'])+'-'+str(row['Month'])),axis=1)\n",
    "test['ds'] = pd.to_datetime(test['ds'])"
   ]
  },
  {
   "cell_type": "code",
   "execution_count": null,
   "metadata": {},
   "outputs": [],
   "source": []
  },
  {
   "cell_type": "markdown",
   "metadata": {},
   "source": [
    "### Training FBProphet model"
   ]
  },
  {
   "cell_type": "code",
   "execution_count": 34,
   "metadata": {},
   "outputs": [
    {
     "name": "stderr",
     "output_type": "stream",
     "text": [
      "INFO:fbprophet.forecaster:Disabling weekly seasonality. Run prophet with weekly_seasonality=True to override this.\n",
      "INFO:fbprophet.forecaster:Disabling daily seasonality. Run prophet with daily_seasonality=True to override this.\n",
      "INFO:fbprophet.forecaster:Disabling weekly seasonality. Run prophet with weekly_seasonality=True to override this.\n",
      "INFO:fbprophet.forecaster:Disabling daily seasonality. Run prophet with daily_seasonality=True to override this.\n",
      "INFO:fbprophet.forecaster:Disabling yearly seasonality. Run prophet with yearly_seasonality=True to override this.\n",
      "INFO:fbprophet.forecaster:Disabling weekly seasonality. Run prophet with weekly_seasonality=True to override this.\n",
      "INFO:fbprophet.forecaster:Disabling daily seasonality. Run prophet with daily_seasonality=True to override this.\n",
      "INFO:fbprophet.forecaster:n_changepoints greater than number of observations.Using 18.0.\n",
      "INFO:fbprophet.forecaster:Disabling weekly seasonality. Run prophet with weekly_seasonality=True to override this.\n",
      "INFO:fbprophet.forecaster:Disabling daily seasonality. Run prophet with daily_seasonality=True to override this.\n",
      "INFO:fbprophet.forecaster:Disabling weekly seasonality. Run prophet with weekly_seasonality=True to override this.\n",
      "INFO:fbprophet.forecaster:Disabling daily seasonality. Run prophet with daily_seasonality=True to override this.\n",
      "INFO:fbprophet.forecaster:Disabling weekly seasonality. Run prophet with weekly_seasonality=True to override this.\n",
      "INFO:fbprophet.forecaster:Disabling daily seasonality. Run prophet with daily_seasonality=True to override this.\n",
      "INFO:fbprophet.forecaster:Disabling weekly seasonality. Run prophet with weekly_seasonality=True to override this.\n",
      "INFO:fbprophet.forecaster:Disabling daily seasonality. Run prophet with daily_seasonality=True to override this.\n",
      "INFO:fbprophet.forecaster:n_changepoints greater than number of observations.Using 21.0.\n",
      "INFO:fbprophet.forecaster:Disabling weekly seasonality. Run prophet with weekly_seasonality=True to override this.\n",
      "INFO:fbprophet.forecaster:Disabling daily seasonality. Run prophet with daily_seasonality=True to override this.\n",
      "INFO:fbprophet.forecaster:Disabling weekly seasonality. Run prophet with weekly_seasonality=True to override this.\n",
      "INFO:fbprophet.forecaster:Disabling daily seasonality. Run prophet with daily_seasonality=True to override this.\n",
      "INFO:fbprophet.forecaster:Disabling weekly seasonality. Run prophet with weekly_seasonality=True to override this.\n",
      "INFO:fbprophet.forecaster:Disabling daily seasonality. Run prophet with daily_seasonality=True to override this.\n",
      "INFO:fbprophet.forecaster:Disabling weekly seasonality. Run prophet with weekly_seasonality=True to override this.\n",
      "INFO:fbprophet.forecaster:Disabling daily seasonality. Run prophet with daily_seasonality=True to override this.\n"
     ]
    }
   ],
   "source": [
    "for i in range(len(comb)):\n",
    "    check = train[(train.Country==comb[i][0])&(train.Product_ID==comb[i][1])][['ds','y','exp','holiday']]\n",
    "    \n",
    "    if (check.shape[0]!=0):\n",
    "        m2 = Prophet()\n",
    "        m2.add_regressor(name='exp')\n",
    "        m2.add_regressor(name='holiday')\n",
    "        m2.fit(check)\n",
    "        pred_df = test[(test.Country==comb[i][0])&(test.Product_ID==comb[i][1])][['ds','exp','holiday']]\n",
    "        Z = m2.predict(pred_df)\n",
    "        test.loc[(test.Country==comb[i][0])&(test.Product_ID==comb[i][1]),\\\n",
    "               'pred_fbp'] = Z['yhat'].values\n",
    "        Y = m2.predict(check[['ds','exp','holiday']])\n",
    "        train.loc[check.index,'pred_fbp'] = Y['yhat'].values"
   ]
  },
  {
   "cell_type": "code",
   "execution_count": 35,
   "metadata": {},
   "outputs": [
    {
     "data": {
      "text/plain": [
       "46.660412124226426"
      ]
     },
     "execution_count": 35,
     "metadata": {},
     "output_type": "execute_result"
    }
   ],
   "source": [
    "SMAPE(train['Sales'].values,train['pred_fbp'].values)"
   ]
  },
  {
   "cell_type": "markdown",
   "metadata": {},
   "source": [
    "### Combining XGBoost and fbprophet's result"
   ]
  },
  {
   "cell_type": "code",
   "execution_count": 37,
   "metadata": {},
   "outputs": [
    {
     "data": {
      "text/plain": [
       "42.533781323406586"
      ]
     },
     "execution_count": 37,
     "metadata": {},
     "output_type": "execute_result"
    }
   ],
   "source": [
    "SMAPE(train['Sales'].values,(0.8*train['pred_fbp'].values+0.2*train['pred_xgb'].values))"
   ]
  },
  {
   "cell_type": "code",
   "execution_count": 38,
   "metadata": {},
   "outputs": [],
   "source": [
    "test['Sales'] = (0.8*test['pred_fbp']+0.2*test['pred_xgb'])"
   ]
  },
  {
   "cell_type": "code",
   "execution_count": 39,
   "metadata": {},
   "outputs": [],
   "source": [
    "subm = test[['S_No','Year','Month','Product_ID','Country','Sales']]"
   ]
  },
  {
   "cell_type": "code",
   "execution_count": 40,
   "metadata": {},
   "outputs": [],
   "source": [
    "subm.to_csv('yds_submission2018.csv',index=False)"
   ]
  },
  {
   "cell_type": "code",
   "execution_count": null,
   "metadata": {},
   "outputs": [],
   "source": []
  }
 ],
 "metadata": {
  "kernelspec": {
   "display_name": "Python 2",
   "language": "python",
   "name": "python2"
  },
  "language_info": {
   "codemirror_mode": {
    "name": "ipython",
    "version": 2
   },
   "file_extension": ".py",
   "mimetype": "text/x-python",
   "name": "python",
   "nbconvert_exporter": "python",
   "pygments_lexer": "ipython2",
   "version": "2.7.14"
  }
 },
 "nbformat": 4,
 "nbformat_minor": 2
}
